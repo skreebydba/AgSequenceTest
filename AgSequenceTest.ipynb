{
    "metadata": {
        "kernelspec": {
            "name": "SQL",
            "display_name": "SQL",
            "language": "sql"
        },
        "language_info": {
            "name": "sql",
            "version": ""
        }
    },
    "nbformat_minor": 2,
    "nbformat": 4,
    "cells": [
        {
            "cell_type": "markdown",
            "source": [
                "# Create database on primary\n",
                "\n",
                "Set recovery to full and backup to allow add to AG\n",
                "\n",
                "Add to AG manually"
            ],
            "metadata": {
                "azdata_cell_guid": "662cd8ba-543e-45a4-ba65-c048e47e3476"
            },
            "attachments": {}
        },
        {
            "cell_type": "code",
            "source": [
                "USE master;\r\n",
                "\r\n",
                "DROP DATABASE IF EXISTS TestDb;\r\n",
                "\r\n",
                "CREATE DATABASE TestDb;\r\n",
                "\r\n",
                "ALTER DATABASE TestDb SET RECOVERY FULL;\r\n",
                "\r\n",
                "BACKUP DATABASE TestDb TO DISK = N'NUL';\r\n",
                ""
            ],
            "metadata": {
                "azdata_cell_guid": "1af4e0b3-f216-466f-9aad-dab204d0e102",
                "language": "sql"
            },
            "outputs": [
                {
                    "output_type": "display_data",
                    "data": {
                        "text/html": "Processed 376 pages for database 'TestDb', file 'TestDb' on file 1."
                    },
                    "metadata": {}
                },
                {
                    "output_type": "display_data",
                    "data": {
                        "text/html": "Processed 2 pages for database 'TestDb', file 'TestDb_log' on file 1."
                    },
                    "metadata": {}
                },
                {
                    "output_type": "display_data",
                    "data": {
                        "text/html": "BACKUP DATABASE successfully processed 378 pages in 0.120 seconds (24.576 MB/sec)."
                    },
                    "metadata": {}
                },
                {
                    "output_type": "display_data",
                    "data": {
                        "text/html": "Total execution time: 00:00:01.974"
                    },
                    "metadata": {}
                }
            ],
            "execution_count": 5
        },
        {
            "cell_type": "markdown",
            "source": [
                "# Create sequence and table\r\n",
                "Set SeqId default to next value for sequence"
            ],
            "metadata": {
                "azdata_cell_guid": "a58bb8cb-0c7c-49fb-a012-4a1b794c6343"
            },
            "attachments": {}
        },
        {
            "cell_type": "code",
            "source": [
                "USE TestDb;\r\n",
                "\r\n",
                "CREATE SEQUENCE dbo.CountBy1  \r\n",
                "    START WITH 1  \r\n",
                "    INCREMENT BY 1 ;  \r\n",
                "GO\r\n",
                "\r\n",
                "CREATE TABLE dbo.SequenceTest\r\n",
                "(SeqId INT\r\n",
                ",TextCol NVARCHAR(100))\r\n",
                "\r\n",
                "ALTER TABLE [dbo].[SequenceTest] ADD  CONSTRAINT [DF_SeqID]  DEFAULT (NEXT VALUE FOR [CountBy1]) FOR [SeqID]\r\n",
                "GO"
            ],
            "metadata": {
                "azdata_cell_guid": "ec4daf7f-7af7-475b-a11a-e6abf2ea8130",
                "language": "sql"
            },
            "outputs": [
                {
                    "output_type": "display_data",
                    "data": {
                        "text/html": "Commands completed successfully."
                    },
                    "metadata": {}
                },
                {
                    "output_type": "display_data",
                    "data": {
                        "text/html": "Commands completed successfully."
                    },
                    "metadata": {}
                },
                {
                    "output_type": "display_data",
                    "data": {
                        "text/html": "Total execution time: 00:00:00.015"
                    },
                    "metadata": {}
                }
            ],
            "execution_count": 6
        },
        {
            "cell_type": "markdown",
            "source": [
                "# Insert row to table"
            ],
            "metadata": {
                "azdata_cell_guid": "3e7f7d97-f0c3-434b-95d8-7c2023b9eb70"
            },
            "attachments": {}
        },
        {
            "cell_type": "code",
            "source": [
                "USE TestDb;\r\n",
                "\r\n",
                "INSERT INTO dbo.SequenceTest\r\n",
                "(TextCol)\r\n",
                "VALUES\r\n",
                "(N'test')"
            ],
            "metadata": {
                "azdata_cell_guid": "9f8411a6-72e0-4673-b557-f079bbec1d6c",
                "language": "sql"
            },
            "outputs": [
                {
                    "output_type": "display_data",
                    "data": {
                        "text/html": "(1 row affected)"
                    },
                    "metadata": {}
                },
                {
                    "output_type": "display_data",
                    "data": {
                        "text/html": "Total execution time: 00:00:00.007"
                    },
                    "metadata": {}
                }
            ],
            "execution_count": 7
        },
        {
            "cell_type": "markdown",
            "source": [
                "# Check sys.sequences view on primary\r\n",
                "Add database to the AG"
            ],
            "metadata": {
                "azdata_cell_guid": "02916aaf-34c7-4d9d-94ed-4ee2f1ec7b6e"
            },
            "attachments": {}
        },
        {
            "cell_type": "code",
            "source": [
                "USE TestDb;\r\n",
                "\r\n",
                "SELECT name, current_Value, last_used_value FROM sys.sequences \r\n",
                "WHERE name =  N'CountBy1' ORDER BY name"
            ],
            "metadata": {
                "azdata_cell_guid": "3656fae5-6988-41f5-ad67-9584afcaeb9f",
                "language": "sql"
            },
            "outputs": [
                {
                    "output_type": "display_data",
                    "data": {
                        "text/html": "(1 row affected)"
                    },
                    "metadata": {}
                },
                {
                    "output_type": "display_data",
                    "data": {
                        "text/html": "Total execution time: 00:00:00.014"
                    },
                    "metadata": {}
                },
                {
                    "output_type": "execute_result",
                    "execution_count": 8,
                    "data": {
                        "application/vnd.dataresource+json": {
                            "schema": {
                                "fields": [
                                    {
                                        "name": "name"
                                    },
                                    {
                                        "name": "current_Value"
                                    },
                                    {
                                        "name": "last_used_value"
                                    }
                                ]
                            },
                            "data": [
                                {
                                    "0": "CountBy1",
                                    "1": "1",
                                    "2": "1"
                                }
                            ]
                        },
                        "text/html": "<table><tr><th>name</th><th>current_Value</th><th>last_used_value</th></tr><tr><td>CountBy1</td><td>1</td><td>1</td></tr></table>"
                    },
                    "metadata": {}
                }
            ],
            "execution_count": 8
        },
        {
            "cell_type": "markdown",
            "source": [
                "# Check sys.sequences view on secondary using ApplicationIntent=ReadOnly\r\n",
                ""
            ],
            "metadata": {
                "azdata_cell_guid": "a7a229cd-1f2e-49c2-b356-b70cf28fb987"
            },
            "attachments": {}
        },
        {
            "cell_type": "code",
            "source": [
                "USE TestDb;\r\n",
                "\r\n",
                "SELECT name, current_Value, last_used_value FROM sys.sequences \r\n",
                "WHERE name =  N'CountBy1' ORDER BY name"
            ],
            "metadata": {
                "language": "sql",
                "azdata_cell_guid": "0318e43a-c322-442f-b27c-b1eefdb94eab"
            },
            "outputs": [
                {
                    "output_type": "display_data",
                    "data": {
                        "text/html": "(1 row affected)"
                    },
                    "metadata": {}
                },
                {
                    "output_type": "display_data",
                    "data": {
                        "text/html": "Total execution time: 00:00:00.015"
                    },
                    "metadata": {}
                },
                {
                    "output_type": "execute_result",
                    "execution_count": 9,
                    "data": {
                        "application/vnd.dataresource+json": {
                            "schema": {
                                "fields": [
                                    {
                                        "name": "name"
                                    },
                                    {
                                        "name": "current_Value"
                                    },
                                    {
                                        "name": "last_used_value"
                                    }
                                ]
                            },
                            "data": [
                                {
                                    "0": "CountBy1",
                                    "1": "50",
                                    "2": "50"
                                }
                            ]
                        },
                        "text/html": "<table><tr><th>name</th><th>current_Value</th><th>last_used_value</th></tr><tr><td>CountBy1</td><td>50</td><td>50</td></tr></table>"
                    },
                    "metadata": {}
                }
            ],
            "execution_count": 9
        },
        {
            "cell_type": "markdown",
            "source": [
                "# Insert second row to table"
            ],
            "metadata": {
                "language": "sql",
                "azdata_cell_guid": "5a8825bb-4130-4ec3-857a-f2f94ec473d4"
            },
            "attachments": {}
        },
        {
            "cell_type": "code",
            "source": [
                "USE TestDb;\r\n",
                "\r\n",
                "INSERT INTO dbo.SequenceTest\r\n",
                "(TextCol)\r\n",
                "VALUES\r\n",
                "(N'test')"
            ],
            "metadata": {
                "language": "sql",
                "azdata_cell_guid": "9187fac9-1dfc-4e36-868b-37fcb88b52d4"
            },
            "outputs": [
                {
                    "output_type": "display_data",
                    "data": {
                        "text/html": "(1 row affected)"
                    },
                    "metadata": {}
                },
                {
                    "output_type": "display_data",
                    "data": {
                        "text/html": "Total execution time: 00:00:00.004"
                    },
                    "metadata": {}
                }
            ],
            "execution_count": 2
        },
        {
            "cell_type": "markdown",
            "source": [
                "# Check sys.sequences view on primary"
            ],
            "metadata": {
                "language": "sql",
                "azdata_cell_guid": "a88e6945-cb73-4d95-b943-5bb86c385d1e"
            },
            "attachments": {}
        },
        {
            "cell_type": "code",
            "source": [
                "USE TestDb;\r\n",
                "\r\n",
                "SELECT name, current_Value, last_used_value FROM sys.sequences \r\n",
                "WHERE name =  N'CountBy1' ORDER BY name"
            ],
            "metadata": {
                "language": "sql",
                "azdata_cell_guid": "b2bbcafb-79fb-4a7a-9eff-58cdc05bc288"
            },
            "outputs": [
                {
                    "output_type": "display_data",
                    "data": {
                        "text/html": "(1 row affected)"
                    },
                    "metadata": {}
                },
                {
                    "output_type": "display_data",
                    "data": {
                        "text/html": "Total execution time: 00:00:00.012"
                    },
                    "metadata": {}
                },
                {
                    "output_type": "execute_result",
                    "execution_count": 3,
                    "data": {
                        "application/vnd.dataresource+json": {
                            "schema": {
                                "fields": [
                                    {
                                        "name": "name"
                                    },
                                    {
                                        "name": "current_Value"
                                    },
                                    {
                                        "name": "last_used_value"
                                    }
                                ]
                            },
                            "data": [
                                {
                                    "0": "CountBy1",
                                    "1": "2",
                                    "2": "2"
                                }
                            ]
                        },
                        "text/html": "<table><tr><th>name</th><th>current_Value</th><th>last_used_value</th></tr><tr><td>CountBy1</td><td>2</td><td>2</td></tr></table>"
                    },
                    "metadata": {}
                }
            ],
            "execution_count": 3
        },
        {
            "cell_type": "markdown",
            "source": [
                "# Check sequences view on secondary with ApplicationIntent=ReadOnly"
            ],
            "metadata": {
                "language": "sql",
                "azdata_cell_guid": "ea42a146-7144-4e61-8dbb-7b768e3c4b4e"
            },
            "attachments": {}
        },
        {
            "cell_type": "code",
            "source": [
                "USE TestDb;\r\n",
                "\r\n",
                "SELECT name, current_Value, last_used_value FROM sys.sequences \r\n",
                "WHERE name =  N'CountBy1' ORDER BY name"
            ],
            "metadata": {
                "language": "sql",
                "azdata_cell_guid": "c0dc8603-f027-42b1-bdbb-9d9cefd8c6ff",
                "tags": [
                    "hide_input"
                ]
            },
            "outputs": [
                {
                    "output_type": "display_data",
                    "data": {
                        "text/html": "(1 row affected)"
                    },
                    "metadata": {}
                },
                {
                    "output_type": "display_data",
                    "data": {
                        "text/html": "Total execution time: 00:00:00.012"
                    },
                    "metadata": {}
                },
                {
                    "output_type": "execute_result",
                    "execution_count": 10,
                    "data": {
                        "application/vnd.dataresource+json": {
                            "schema": {
                                "fields": [
                                    {
                                        "name": "name"
                                    },
                                    {
                                        "name": "current_Value"
                                    },
                                    {
                                        "name": "last_used_value"
                                    }
                                ]
                            },
                            "data": [
                                {
                                    "0": "CountBy1",
                                    "1": "50",
                                    "2": "50"
                                }
                            ]
                        },
                        "text/html": "<table><tr><th>name</th><th>current_Value</th><th>last_used_value</th></tr><tr><td>CountBy1</td><td>50</td><td>50</td></tr></table>"
                    },
                    "metadata": {}
                }
            ],
            "execution_count": 10
        },
        {
            "cell_type": "markdown",
            "source": [
                "# Manually fail the AG over"
            ],
            "metadata": {
                "language": "sql",
                "azdata_cell_guid": "5d53a620-8550-4830-a267-cf2357e5faea"
            },
            "attachments": {}
        },
        {
            "cell_type": "markdown",
            "source": [
                "# Check sys.sequences on the new primary"
            ],
            "metadata": {
                "language": "sql",
                "azdata_cell_guid": "7aacc61d-bb8b-4dab-a120-fd41273a62f8"
            },
            "attachments": {}
        },
        {
            "cell_type": "code",
            "source": [
                "USE TestDb;\r\n",
                "\r\n",
                "SELECT name, current_Value, last_used_value FROM sys.sequences \r\n",
                "WHERE name =  N'CountBy1' ORDER BY name"
            ],
            "metadata": {
                "language": "sql",
                "azdata_cell_guid": "24a5ee37-c98f-4134-81e3-d0608aebb722"
            },
            "outputs": [
                {
                    "output_type": "display_data",
                    "data": {
                        "text/html": "(1 row affected)"
                    },
                    "metadata": {}
                },
                {
                    "output_type": "display_data",
                    "data": {
                        "text/html": "Total execution time: 00:00:00.008"
                    },
                    "metadata": {}
                },
                {
                    "output_type": "execute_result",
                    "metadata": {},
                    "execution_count": 1,
                    "data": {
                        "application/vnd.dataresource+json": {
                            "schema": {
                                "fields": [
                                    {
                                        "name": "name"
                                    },
                                    {
                                        "name": "current_Value"
                                    },
                                    {
                                        "name": "last_used_value"
                                    }
                                ]
                            },
                            "data": [
                                {
                                    "0": "CountBy1",
                                    "1": "50",
                                    "2": "50"
                                }
                            ]
                        },
                        "text/html": [
                            "<table>",
                            "<tr><th>name</th><th>current_Value</th><th>last_used_value</th></tr>",
                            "<tr><td>CountBy1</td><td>50</td><td>50</td></tr>",
                            "</table>"
                        ]
                    }
                }
            ],
            "execution_count": 1
        },
        {
            "cell_type": "markdown",
            "source": [
                "# Check sys.sequences on the new secondary with ApplicationIntent=ReadOnly"
            ],
            "metadata": {
                "language": "sql",
                "azdata_cell_guid": "2096025f-3e35-4470-adb6-04e63da7f49c"
            },
            "attachments": {}
        },
        {
            "cell_type": "code",
            "source": [
                "USE TestDb;\r\n",
                "\r\n",
                "SELECT name, current_Value, last_used_value FROM sys.sequences \r\n",
                "WHERE name =  N'CountBy1' ORDER BY name"
            ],
            "metadata": {
                "language": "sql",
                "azdata_cell_guid": "9869c9ed-63d2-4d5d-a85f-baae68ed4bea"
            },
            "outputs": [
                {
                    "output_type": "display_data",
                    "data": {
                        "text/html": "(1 row affected)"
                    },
                    "metadata": {}
                },
                {
                    "output_type": "display_data",
                    "data": {
                        "text/html": "Total execution time: 00:00:00.013"
                    },
                    "metadata": {}
                },
                {
                    "output_type": "execute_result",
                    "metadata": {},
                    "execution_count": 2,
                    "data": {
                        "application/vnd.dataresource+json": {
                            "schema": {
                                "fields": [
                                    {
                                        "name": "name"
                                    },
                                    {
                                        "name": "current_Value"
                                    },
                                    {
                                        "name": "last_used_value"
                                    }
                                ]
                            },
                            "data": [
                                {
                                    "0": "CountBy1",
                                    "1": "50",
                                    "2": "50"
                                }
                            ]
                        },
                        "text/html": [
                            "<table>",
                            "<tr><th>name</th><th>current_Value</th><th>last_used_value</th></tr>",
                            "<tr><td>CountBy1</td><td>50</td><td>50</td></tr>",
                            "</table>"
                        ]
                    }
                }
            ],
            "execution_count": 2
        }
    ]
}